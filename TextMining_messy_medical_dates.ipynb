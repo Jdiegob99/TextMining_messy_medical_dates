{
  "cells": [
    {
      "cell_type": "markdown",
      "metadata": {
        "id": "nXhiHl3kYT1H"
      },
      "source": [
        "# TextMining_messy_medical_dates\n",
        "\n",
        "\n",
        "In this script, we will handle complex medical data where dates are encoded in various formats using regular expressions (regex) to extract relevant information.\n",
        "\n",
        "Each line in the `dates.txt` file corresponds to a medical note, and each note contains a date that needs to be extracted. However, dates appear in many different formats.\n",
        "\n",
        "The objective of this script is to accurately identify all the different date formats present in the dataset, normalize them, and sort them properly.\n",
        "\n",
        "Here are examples of the date variants that may be encountered:\n",
        "\n",
        "* 04/20/2009; 04/20/09; 4/20/09; 4/3/09\n",
        "* Mar-20-2009; Mar 20, 2009; March 20, 2009;  Mar. 20, 2009; Mar 20 2009;\n",
        "* 20 Mar 2009; 20 March 2009; 20 Mar. 2009; 20 March, 2009\n",
        "* Mar 20th, 2009; Mar 21st, 2009; Mar 22nd, 2009\n",
        "* Feb 2009; Sep 2009; Oct 2010\n",
        "* 6/2008; 12/2009\n",
        "* 2009; 2010\n",
        "\n",
        "Once dates are extracted from the text using these patterns, the next step is to sort them chronologically in ascending order according to specific rules:\n",
        "\n",
        "* Assume all dates in xx/xx/xx format are mm/dd/yy\n",
        "* Assume all dates where year is encoded in only two digits are years from the 1900's (e.g. 1/5/89 is January 5th, 1989)\n",
        "* If the day is missing (e.g. 9/2009), assume it is the first day of the month (e.g. September 1, 2009).\n",
        "* If the month is missing (e.g. 2010), assume it is the first of January of that year (e.g. January 1, 2010).\n",
        "* Watch out for potential typos as this is a raw, real-life derived dataset."
      ]
    },
    {
      "cell_type": "code",
      "execution_count": 19,
      "metadata": {
        "colab": {
          "base_uri": "https://localhost:8080/"
        },
        "id": "EPQ9nXu2YT1L",
        "outputId": "adf2cb92-59c2-440c-c52f-f458a4951407"
      },
      "outputs": [
        {
          "output_type": "execute_result",
          "data": {
            "text/plain": [
              "level_0\n",
              "0     1993-03-25\n",
              "1     1985-06-18\n",
              "2     1971-07-08\n",
              "3     1975-09-27\n",
              "4     1996-02-06\n",
              "         ...    \n",
              "495   1979-01-01\n",
              "496   2006-01-01\n",
              "497   2008-01-01\n",
              "498   2005-01-01\n",
              "499   1980-01-01\n",
              "Name: date, Length: 500, dtype: datetime64[ns]"
            ]
          },
          "metadata": {},
          "execution_count": 19
        }
      ],
      "source": [
        "import numpy as np\n",
        "import pandas as pd\n",
        "\n",
        "def date_sorter():\n",
        "    # Cargar el archivo de texto como una Serie de pandas\n",
        "    doc = []\n",
        "    with open('assets/dates.txt') as file:\n",
        "        for line in file:\n",
        "            doc.append(line)\n",
        "\n",
        "    df = pd.Series(doc)\n",
        "\n",
        "    # Extraer todas las variantes de fechas con expresiones regulares\n",
        "    # Variantes de fechas del tipo xx/xx/xx o xx/xx/xxxx\n",
        "    a1_1 = df.str.extractall(r'(\\d{1,2})[/-](\\d{1,2})[/-](\\d{2})\\b')\n",
        "    a1_2 = df.str.extractall(r'(\\d{1,2})[/-](\\d{1,2})[/-](\\d{4})\\b')\n",
        "    a1 = pd.concat([a1_1, a1_2])\n",
        "    a1.reset_index(inplace=True)\n",
        "    a1_index = a1['level_0']\n",
        "\n",
        "    # Variantes de fechas del tipo \"Month Day, Year\" o \"Month. Day, Year\"\n",
        "    a2 = df.str.extractall(r'((?:Jan|Feb|Mar|Apr|May|Jun|Jul|Aug|Sep|Oct|Nov|Dec)[a-z]*[-.]* )((?:\\d{1,2}[?:, -]*)\\d{4})')\n",
        "    a2.reset_index(inplace=True)\n",
        "    a2_index = a2['level_0']\n",
        "\n",
        "    # Variantes de fechas del tipo \"Day Month Year\" o \"Day Month, Year\"\n",
        "    a3 = df.str.extractall(r'((?:\\d{1,2} ))?((?:Jan|Feb|Mar|Apr|May|Jun|Jul|Aug|Sep|Oct|Nov|Dec)[a-z]*[?:, -]* )(\\d{4})')\n",
        "    a3.reset_index(inplace=True)\n",
        "    a3_index = a3['level_0']\n",
        "\n",
        "    # Variantes de fechas del tipo xx/xxxx\n",
        "    a6 = df.str.extractall(r'(\\d{1,2})[/](\\d{4})')\n",
        "    a6.reset_index(inplace=True)\n",
        "    a6_index = a6['level_0']\n",
        "\n",
        "    # Filtrar variantes a6 que no estén en a1 (formatos xx/xx/xx o xx/xx/xxxx)\n",
        "    save = []\n",
        "    for i in a6_index:\n",
        "        if not (i in a1_index.values):\n",
        "            save.append(i)\n",
        "    save = np.asarray(save)\n",
        "    a6 = a6[a6['level_0'].isin(save)]\n",
        "\n",
        "    # Variantes de fechas del tipo \"Year\" o \"Year\"\n",
        "    a7_1 = df.str.extractall(r'[a-z]?[^0-9](\\d{4})[^0-9]')\n",
        "    a7_2 = df.str.extractall(r'^(\\d{4})[^0-9]')\n",
        "    a7 = pd.concat([a7_1, a7_2])\n",
        "    a7.reset_index(inplace=True)\n",
        "    a7_index = a7['level_0']\n",
        "\n",
        "    # Filtrar las fechas en a7 para asegurarse de que no se superpongan con las fechas ya extraídas en a2, a3, y a6.\n",
        "    save = []\n",
        "    for i in a7_index:\n",
        "        if not ((i in a2_index.values) | (i in a3_index.values) | (i in a6_index.values)):\n",
        "            save.append(i)\n",
        "    save = np.asarray(save)\n",
        "    a7 = a7[a7['level_0'].isin(save)]\n",
        "\n",
        "    # Crear un único arreglo que contenga todos los índices de las filas del DataFrame original (df)\n",
        "    s = np.asarray(a1.level_0.values.tolist() + a2.level_0.values.tolist() +\n",
        "                   a3.level_0.values.tolist() + a6.level_0.values.tolist() +\n",
        "                   a7.level_0.values.tolist())\n",
        "\n",
        "    # Procesar cada DataFrame resultante para normalizar las fechas\n",
        "    a1.columns = ['level_0', 'match', 'month', 'day', 'year']\n",
        "    a1['year'] = a1['year'].apply(str)\n",
        "    a1['year'] = a1['year'].apply(lambda x: '19'+x if len(x) <= 2 else x)\n",
        "\n",
        "    a2[1] = a2[1].apply(lambda x: x.replace(',', ''))\n",
        "    a2['day'] = a2[1].apply(lambda x: x.split(' ')[0])\n",
        "    a2['year'] = a2[1].apply(lambda x: x.split(' ')[1])\n",
        "    a2.columns = ['level_0', 'match', 'month', 'day-year', 'day', 'year']\n",
        "    a2.drop('day-year', axis=1, inplace=True)\n",
        "\n",
        "    a3.columns = ['level_0', 'match', 'day', 'month', 'year']\n",
        "    a3['day'] = a3['day'].replace(np.nan, -99)\n",
        "    a3['day'] = a3['day'].apply(lambda x: 1 if int(x) == -99 else x)\n",
        "    a3['month'] = a3.month.apply(lambda x: x[:3])\n",
        "    a3['month'] = pd.to_datetime(a3.month, format='%b').dt.month\n",
        "\n",
        "    a6.columns = ['level_0', 'match', 'month', 'year']\n",
        "    a6['day'] = 1\n",
        "\n",
        "    a7.columns = ['level_0', 'match', 'year']\n",
        "    a7['day'] = 1\n",
        "    a7['month'] = 1\n",
        "\n",
        "    # Concatenar todos los resultados procesados en un DataFrame final\n",
        "    final = pd.concat([a1, a2, a3, a6, a7])\n",
        "\n",
        "    # Combinar las columnas 'month', 'day', y 'year' en una nueva columna 'date'\n",
        "    # errors='coerce': Este argumento indica que si una cadena no puede convertirse en una fecha válida, en lugar de generar un error, se asignará NaT (Not a Time) a esa entrada.\n",
        "    final['date'] = pd.to_datetime(final['month'].apply(str) + '/' + final['day'].apply(str) + '/' + final['year'].apply(str), errors='coerce')\n",
        "\n",
        "    # Ordenar el DataFrame final por el índice original y establecerlo como índice\n",
        "    final = final.sort_values(by='level_0').set_index('level_0')\n",
        "\n",
        "    # Obtener la lista de fechas ordenadas\n",
        "    DateList = final['date']\n",
        "\n",
        "    return DateList\n",
        "\n",
        "# Llamar a la función para ejecutarla\n",
        "date_sorter()"
      ]
    }
  ],
  "metadata": {
    "colab": {
      "provenance": []
    },
    "coursera": {
      "course_slug": "python-text-mining",
      "graded_item_id": "LvcWI",
      "launcher_item_id": "krne9",
      "part_id": "Mkp1I"
    },
    "kernelspec": {
      "display_name": "Python 3 (ipykernel)",
      "language": "python",
      "name": "python3"
    },
    "language_info": {
      "codemirror_mode": {
        "name": "ipython",
        "version": 3
      },
      "file_extension": ".py",
      "mimetype": "text/x-python",
      "name": "python",
      "nbconvert_exporter": "python",
      "pygments_lexer": "ipython3",
      "version": "3.9.13"
    },
    "vscode": {
      "interpreter": {
        "hash": "aee8b7b246df8f9039afb4144a1f6fd8d2ca17a180786b69acc140d282b71a49"
      }
    }
  },
  "nbformat": 4,
  "nbformat_minor": 0
}